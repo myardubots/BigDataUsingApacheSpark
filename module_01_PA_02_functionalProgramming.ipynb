{
    "cells": [
        {
            "metadata": {},
            "cell_type": "markdown",
            "source": "This notebook is designed to run in a IBM Watson Studio default runtime (NOT the Watson Studio Apache Spark Runtime as the default runtime with 1 vCPU is free of charge). Therefore, we install Apache Spark in local mode for test purposes only. Please don't use it in production.\n\nIn case you are facing issues, please read the following two documents first:\n\nhttps://github.com/IBM/skillsnetwork/wiki/Environment-Setup\n\nhttps://github.com/IBM/skillsnetwork/wiki/FAQ\n\nThen, please feel free to ask:\n\nhttps://coursera.org/learn/machine-learning-big-data-apache-spark/discussions/all\n\nPlease make sure to follow the guidelines before asking a question:\n\nhttps://github.com/IBM/skillsnetwork/wiki/FAQ#im-feeling-lost-and-confused-please-help-me\n\n\nIf running outside Watson Studio, this should work as well. In case you are running in an Apache Spark context outside Watson Studio, please remove the Apache Spark setup in the first notebook cells."
        },
        {
            "metadata": {},
            "cell_type": "code",
            "source": "from IPython.display import Markdown, display\ndef printmd(string):\n    display(Markdown('# <span style=\"color:red\">'+string+'</span>'))\n\n\nif ('sc' in locals() or 'sc' in globals()):\n    printmd('<<<<<!!!!! It seems that you are running in a IBM Watson Studio Apache Spark Notebook. Please run it in an IBM Watson Studio Default Runtime (without Apache Spark) !!!!!>>>>>')\n",
            "execution_count": 1,
            "outputs": []
        },
        {
            "metadata": {},
            "cell_type": "code",
            "source": "!pip install pyspark==2.4.5",
            "execution_count": 2,
            "outputs": [
                {
                    "output_type": "stream",
                    "text": "Requirement already satisfied: pyspark==2.4.5 in /opt/conda/envs/Python36/lib/python3.6/site-packages (2.4.5)\r\nRequirement already satisfied: py4j==0.10.7 in /opt/conda/envs/Python36/lib/python3.6/site-packages (from pyspark==2.4.5) (0.10.7)\r\n",
                    "name": "stdout"
                }
            ]
        },
        {
            "metadata": {},
            "cell_type": "code",
            "source": "try:\n    from pyspark import SparkContext, SparkConf\n    from pyspark.sql import SparkSession\nexcept ImportError as e:\n    printmd('<<<<<!!!!! Please restart your kernel after installing Apache Spark !!!!!>>>>>')",
            "execution_count": 3,
            "outputs": []
        },
        {
            "metadata": {},
            "cell_type": "code",
            "source": "sc = SparkContext.getOrCreate(SparkConf().setMaster(\"local[*]\"))\n\nspark = SparkSession \\\n    .builder \\\n    .getOrCreate()",
            "execution_count": 4,
            "outputs": []
        },
        {
            "metadata": {
                "collapsed": true
            },
            "cell_type": "markdown",
            "source": "Welcome to exercise two of \u201cApache Spark for Scalable Machine Learning on BigData\u201d. In this exercise you\u2019ll apply the basics of functional and parallel programming. \n\nAgain, please use the following two links for your reference:\nhttps://spark.apache.org/docs/latest/api/python/pyspark.html#pyspark.RDD\nhttps://spark.apache.org/docs/latest/rdd-programming-guide.html\n\nLet\u2019s actually create a python function which decides whether a value is greater than 50 (True) or not (False)."
        },
        {
            "metadata": {},
            "cell_type": "code",
            "source": "def gt50(i):\n    if i > 50:\n        return True\n    else:\n        return False",
            "execution_count": 5,
            "outputs": []
        },
        {
            "metadata": {},
            "cell_type": "code",
            "source": "print(gt50(4))\nprint(gt50(51))",
            "execution_count": 6,
            "outputs": [
                {
                    "output_type": "stream",
                    "text": "False\nTrue\n",
                    "name": "stdout"
                }
            ]
        },
        {
            "metadata": {},
            "cell_type": "markdown",
            "source": "Let\u2019s simplify this function"
        },
        {
            "metadata": {},
            "cell_type": "code",
            "source": "def gt50(i):\n    return i > 50",
            "execution_count": 7,
            "outputs": []
        },
        {
            "metadata": {},
            "cell_type": "code",
            "source": "print(gt50(4))\nprint(gt50(51))",
            "execution_count": 8,
            "outputs": [
                {
                    "output_type": "stream",
                    "text": "False\nTrue\n",
                    "name": "stdout"
                }
            ]
        },
        {
            "metadata": {},
            "cell_type": "markdown",
            "source": "Now let\u2019s use the lambda notation to define the function."
        },
        {
            "metadata": {},
            "cell_type": "code",
            "source": "gt50 = lambda i: i > 50",
            "execution_count": 9,
            "outputs": []
        },
        {
            "metadata": {},
            "cell_type": "code",
            "source": "print(gt50(4))\nprint(gt50(51))",
            "execution_count": 10,
            "outputs": [
                {
                    "output_type": "stream",
                    "text": "False\nTrue\n",
                    "name": "stdout"
                }
            ]
        },
        {
            "metadata": {},
            "cell_type": "code",
            "source": "#let's shuffle our list to make it a bit more interesting\nfrom random import shuffle\nl = list(range(100))\nshuffle(l)\nrdd = sc.parallelize(l)",
            "execution_count": 11,
            "outputs": []
        },
        {
            "metadata": {},
            "cell_type": "markdown",
            "source": "Let\u2019s filter values from our list which are equals or less than 50 by applying our \u201cgt50\u201d function to the list using the \u201cfilter\u201d function. Note that by calling the \u201ccollect\u201d function, all elements are returned to the Apache Spark Driver. This is not a good idea for BigData, please use \u201c.sample(10,0.1).collect()\u201d or \u201ctake(n)\u201d instead."
        },
        {
            "metadata": {},
            "cell_type": "code",
            "source": "rdd.filter(gt50).collect()",
            "execution_count": 12,
            "outputs": [
                {
                    "output_type": "execute_result",
                    "execution_count": 12,
                    "data": {
                        "text/plain": "[79,\n 52,\n 81,\n 75,\n 90,\n 64,\n 86,\n 92,\n 70,\n 83,\n 77,\n 84,\n 97,\n 59,\n 57,\n 94,\n 58,\n 89,\n 60,\n 73,\n 88,\n 56,\n 87,\n 98,\n 80,\n 71,\n 61,\n 78,\n 82,\n 72,\n 67,\n 74,\n 63,\n 85,\n 55,\n 69,\n 91,\n 62,\n 53,\n 95,\n 51,\n 68,\n 76,\n 66,\n 65,\n 96,\n 93,\n 54,\n 99]"
                    },
                    "metadata": {}
                }
            ]
        },
        {
            "metadata": {},
            "cell_type": "markdown",
            "source": "We can also use the lambda function directly."
        },
        {
            "metadata": {},
            "cell_type": "code",
            "source": "rdd.filter(lambda i: i > 50).collect()",
            "execution_count": 19,
            "outputs": [
                {
                    "output_type": "execute_result",
                    "execution_count": 19,
                    "data": {
                        "text/plain": "[79,\n 52,\n 81,\n 75,\n 90,\n 64,\n 86,\n 92,\n 70,\n 83,\n 77,\n 84,\n 97,\n 59,\n 57,\n 94,\n 58,\n 89,\n 60,\n 73,\n 88,\n 56,\n 87,\n 98,\n 80,\n 71,\n 61,\n 78,\n 82,\n 72,\n 67,\n 74,\n 63,\n 85,\n 55,\n 69,\n 91,\n 62,\n 53,\n 95,\n 51,\n 68,\n 76,\n 66,\n 65,\n 96,\n 93,\n 54,\n 99]"
                    },
                    "metadata": {}
                }
            ]
        },
        {
            "metadata": {},
            "cell_type": "markdown",
            "source": "Let\u2019s consider the same list of integers. Now we want to compute the sum for elements in that list which are greater than 50 but less than 75. Please implement the missing parts. "
        },
        {
            "metadata": {},
            "cell_type": "code",
            "source": "rdd.filter(lambda x: x>50).filter(lambda x: x<75).sum()",
            "execution_count": 20,
            "outputs": [
                {
                    "output_type": "execute_result",
                    "execution_count": 20,
                    "data": {
                        "text/plain": "1500"
                    },
                    "metadata": {}
                }
            ]
        },
        {
            "metadata": {},
            "cell_type": "markdown",
            "source": "You should see \"1500\" as answer. Now we want to know the sum of all elements. Please again, have a look at the API documentation and complete the code below in order to get the sum."
        }
    ],
    "metadata": {
        "kernelspec": {
            "name": "python3",
            "display_name": "Python 3.6",
            "language": "python"
        },
        "language_info": {
            "name": "python",
            "version": "3.6.9",
            "mimetype": "text/x-python",
            "codemirror_mode": {
                "name": "ipython",
                "version": 3
            },
            "pygments_lexer": "ipython3",
            "nbconvert_exporter": "python",
            "file_extension": ".py"
        }
    },
    "nbformat": 4,
    "nbformat_minor": 1
}